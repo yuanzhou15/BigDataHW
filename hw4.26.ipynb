{
 "cells": [
  {
   "cell_type": "code",
   "execution_count": 1,
   "metadata": {},
   "outputs": [
    {
     "data": {
      "text/html": [
       "\n",
       "        <div>\n",
       "            <p><b>SparkContext</b></p>\n",
       "\n",
       "            <p><a href=\"http://arch:4040\">Spark UI</a></p>\n",
       "\n",
       "            <dl>\n",
       "              <dt>Version</dt>\n",
       "                <dd><code>v2.3.0</code></dd>\n",
       "              <dt>Master</dt>\n",
       "                <dd><code>local[*]</code></dd>\n",
       "              <dt>AppName</dt>\n",
       "                <dd><code>PySparkShell</code></dd>\n",
       "            </dl>\n",
       "        </div>\n",
       "        "
      ],
      "text/plain": [
       "<SparkContext master=local[*] appName=PySparkShell>"
      ]
     },
     "execution_count": 1,
     "metadata": {},
     "output_type": "execute_result"
    }
   ],
   "source": [
    "sc"
   ]
  },
  {
   "cell_type": "code",
   "execution_count": 4,
   "metadata": {},
   "outputs": [],
   "source": [
    "NYC_REST = 'nyc_restaurants.csv'\n",
    "rest = sc.textFile(NYC_REST, use_unicode=False).cache()"
   ]
  },
  {
   "cell_type": "code",
   "execution_count": 6,
   "metadata": {},
   "outputs": [
    {
     "data": {
      "text/plain": [
       "[(0, 'CAMIS'),\n",
       " (1, 'DBA'),\n",
       " (2, 'BORO'),\n",
       " (3, 'BUILDING'),\n",
       " (4, 'STREET'),\n",
       " (5, 'ZIPCODE'),\n",
       " (6, 'PHONE'),\n",
       " (7, 'CUISINE DESCRIPTION'),\n",
       " (8, 'INSPECTION DATE'),\n",
       " (9, 'ACTION'),\n",
       " (10, 'VIOLATION CODE'),\n",
       " (11, 'VIOLATION DESCRIPTION'),\n",
       " (12, 'CRITICAL FLAG'),\n",
       " (13, 'SCORE'),\n",
       " (14, 'GRADE'),\n",
       " (15, 'GRADE DATE'),\n",
       " (16, 'RECORD DATE'),\n",
       " (17, 'INSPECTION TYPE')]"
      ]
     },
     "execution_count": 6,
     "metadata": {},
     "output_type": "execute_result"
    }
   ],
   "source": [
    "rest.take(3)\n",
    "list(enumerate(rest.first().split(',')))\n"
   ]
  },
  {
   "cell_type": "code",
   "execution_count": 14,
   "metadata": {},
   "outputs": [
    {
     "data": {
      "text/plain": [
       "['Chicken',\n",
       " 'Jewish/Kosher',\n",
       " 'Caribbean',\n",
       " 'Italian',\n",
       " 'Korean',\n",
       " 'Donuts',\n",
       " 'Sandwiches/Salads/Mixed Buffet',\n",
       " 'American',\n",
       " 'American',\n",
       " 'Juice, Smoothies, Fruit Salads']"
      ]
     },
     "execution_count": 14,
     "metadata": {},
     "output_type": "execute_result"
    }
   ],
   "source": [
    "def extractCuisine(partId, list_of_records):\n",
    "    if partId==0: \n",
    "        list_of_records.next() # skipping the first line\n",
    "    import csv\n",
    "    reader = csv.reader(list_of_records)\n",
    "    for row in reader:\n",
    "        cuisine = row[7]\n",
    "        yield(cuisine)\n",
    "        \n",
    "\n",
    "allCuisines = rest.mapPartitionsWithIndex(extractCuisine)\n",
    "allCuisines.take(10)\n"
   ]
  },
  {
   "cell_type": "code",
   "execution_count": 32,
   "metadata": {},
   "outputs": [
    {
     "data": {
      "text/plain": [
       "[('Cajun', 137),\n",
       " ('Afghan', 232),\n",
       " ('Chinese/Cuban', 341),\n",
       " ('Steak', 1271),\n",
       " ('Creole/Cajun', 88),\n",
       " ('Chinese/Japanese', 852),\n",
       " ('Tapas', 492),\n",
       " ('French', 4790),\n",
       " ('Continental', 878),\n",
       " ('Greek', 2054),\n",
       " ('American', 84995),\n",
       " ('Indian', 5797),\n",
       " ('Moroccan', 208),\n",
       " ('Polynesian', 29),\n",
       " ('Pancakes/Waffles', 241),\n",
       " ('Pakistani', 647),\n",
       " ('Hotdogs', 274),\n",
       " ('Californian', 78),\n",
       " ('Portuguese', 162),\n",
       " ('Sandwiches/Salads/Mixed Buffet', 2762),\n",
       " ('Chinese', 39515),\n",
       " ('Turkish', 1132),\n",
       " ('Soups', 33),\n",
       " ('Delicatessen', 5911),\n",
       " ('Indonesian', 103),\n",
       " ('Pizza/Italian', 8131),\n",
       " ('Bangladeshi', 962),\n",
       " ('Sandwiches', 4483),\n",
       " ('Southwestern', 120),\n",
       " ('Bottled beverages, including water, sodas, juices, etc.', 1111),\n",
       " ('Pizza', 17640),\n",
       " ('Caribbean', 12715),\n",
       " ('Filipino', 669),\n",
       " ('Egyptian', 155),\n",
       " ('Czech', 27),\n",
       " ('African', 1395),\n",
       " ('Mediterranean', 3490),\n",
       " ('Bagels/Pretzels', 2803),\n",
       " ('Middle Eastern', 2573),\n",
       " ('Bakery', 11542),\n",
       " ('Other', 2380),\n",
       " ('Soul Food', 980),\n",
       " ('English', 240),\n",
       " ('Thai', 4881),\n",
       " ('Scandinavian', 62),\n",
       " ('Hotdogs/Pretzels', 152),\n",
       " ('Latin (Cuban, Dominican, Puerto Rican, South & Central American)', 17400),\n",
       " ('Caf\\xc3\\x83\\xc2\\xa9/Coffee/Tea', 16379),\n",
       " ('Japanese', 13852),\n",
       " ('Korean', 4856),\n",
       " ('Australian', 259),\n",
       " ('Hawaiian', 213),\n",
       " ('Ice Cream, Gelato, Yogurt, Ices', 2909),\n",
       " ('Armenian', 468),\n",
       " ('Russian', 1347),\n",
       " ('Juice, Smoothies, Fruit Salads', 3343),\n",
       " ('Fruits/Vegetables', 55),\n",
       " ('Vegetarian', 1517),\n",
       " ('Not Listed/Not Applicable', 76),\n",
       " ('Jewish/Kosher', 5420),\n",
       " ('Soups & Sandwiches', 502),\n",
       " ('Irish', 3045),\n",
       " ('German', 622),\n",
       " ('Ethiopian', 259),\n",
       " ('Nuts/Confectionary', 47),\n",
       " ('Peruvian', 1492),\n",
       " ('Asian', 5869),\n",
       " ('Spanish', 11283),\n",
       " ('Salads', 703),\n",
       " ('Tex-Mex', 2091),\n",
       " ('Hamburgers', 5062),\n",
       " ('Chilean', 53),\n",
       " ('Mexican', 14653),\n",
       " ('Eastern European', 1184),\n",
       " ('Donuts', 5670),\n",
       " ('Seafood', 2612),\n",
       " ('Brazilian', 417),\n",
       " ('Barbecue', 796),\n",
       " ('Vietnamese/Cambodian/Malaysia', 1535),\n",
       " ('Basque', 29),\n",
       " ('Polish', 529),\n",
       " ('Iranian', 42),\n",
       " ('Creole', 602),\n",
       " ('Chicken', 6251),\n",
       " ('Italian', 16699)]"
      ]
     },
     "execution_count": 32,
     "metadata": {},
     "output_type": "execute_result"
    }
   ],
   "source": [
    "allCuisines.map(lambda x: (x, 1)).reduceByKey(lambda x, y: x + y).collect()"
   ]
  },
  {
   "cell_type": "code",
   "execution_count": null,
   "metadata": {},
   "outputs": [],
   "source": []
  }
 ],
 "metadata": {
  "kernelspec": {
   "display_name": "Python 2",
   "language": "python",
   "name": "python2"
  },
  "language_info": {
   "codemirror_mode": {
    "name": "ipython",
    "version": 2
   },
   "file_extension": ".py",
   "mimetype": "text/x-python",
   "name": "python",
   "nbconvert_exporter": "python",
   "pygments_lexer": "ipython2",
   "version": "2.7.14"
  }
 },
 "nbformat": 4,
 "nbformat_minor": 2
}
